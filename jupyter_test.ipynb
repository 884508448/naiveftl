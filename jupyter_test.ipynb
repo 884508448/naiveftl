{
 "cells": [
  {
   "cell_type": "code",
   "execution_count": 23,
   "id": "25c86e17",
   "metadata": {},
   "outputs": [],
   "source": [
    "import torch.nn as nn\n",
    "\n",
    "from utils.ftl_data_loader import FTLDataLoader"
   ]
  },
  {
   "cell_type": "code",
   "execution_count": 24,
   "id": "54c38ccf",
   "metadata": {},
   "outputs": [
    {
     "name": "stderr",
     "output_type": "stream",
     "text": [
      "[2022-05-26 15:45:50] ftl_data_loader.py:57 INFO - mapping label value 0 to -1, 1 to +1\n"
     ]
    },
    {
     "name": "stdout",
     "output_type": "stream",
     "text": [
      "[[-0.041827  0.037656  0.830468 ...  0.003406  0.139864  0.346127]\n",
      " [-0.072071 -0.215349 -0.12748  ...  0.134116 -0.078017 -0.203804]\n",
      " [-0.046688  0.135819  0.185993 ... -0.313597  0.861375 -0.955271]\n",
      " ...\n",
      " [ 0.002206 -0.220415 -0.12001  ... -0.149214 -0.405655  0.134179]\n",
      " [ 0.272182 -0.089065 -0.080786 ... -0.280846  0.243175 -0.598673]\n",
      " [-0.097331 -0.224257 -0.128853 ...  0.563206  0.56376  -0.494249]]\n"
     ]
    }
   ],
   "source": [
    "dt = FTLDataLoader(\"data/mini_nus_wide_train_guest.csv\")\n",
    "\n",
    "print(dt.data_matrix)"
   ]
  },
  {
   "cell_type": "code",
   "execution_count": 25,
   "id": "ba459f24",
   "metadata": {},
   "outputs": [
    {
     "name": "stdout",
     "output_type": "stream",
     "text": [
      "[[-0.041827  0.037656  0.830468 ...  0.003406  0.139864  0.346127]\n",
      " [-0.072071 -0.215349 -0.12748  ...  0.134116 -0.078017 -0.203804]\n",
      " [-0.046688  0.135819  0.185993 ... -0.313597  0.861375 -0.955271]\n",
      " ...\n",
      " [ 0.002206 -0.220415 -0.12001  ... -0.149214 -0.405655  0.134179]\n",
      " [ 0.272182 -0.089065 -0.080786 ... -0.280846  0.243175 -0.598673]\n",
      " [-0.097331 -0.224257 -0.128853 ...  0.563206  0.56376  -0.494249]]\n",
      "<class 'numpy.ndarray'>\n"
     ]
    }
   ],
   "source": [
    "print(dt.data_matrix)\n",
    "print(type(dt.data_matrix))"
   ]
  },
  {
   "cell_type": "code",
   "execution_count": 2,
   "id": "babbc26f",
   "metadata": {},
   "outputs": [],
   "source": [
    "from phe import paillier\n",
    "import numpy as np"
   ]
  },
  {
   "cell_type": "code",
   "execution_count": 4,
   "id": "bf1aa8e8",
   "metadata": {},
   "outputs": [
    {
     "name": "stdout",
     "output_type": "stream",
     "text": [
      "[3, 4, 5]\n",
      "[<phe.paillier.EncryptedNumber object at 0x7ff5e41e8910>, <phe.paillier.EncryptedNumber object at 0x7ff5893fd340>, <phe.paillier.EncryptedNumber object at 0x7ff5e41e8a30>]\n",
      "[<phe.paillier.EncryptedNumber object at 0x7ff5e41e8910>\n",
      " <phe.paillier.EncryptedNumber object at 0x7ff5893fd340>\n",
      " <phe.paillier.EncryptedNumber object at 0x7ff5e41e8a30>]\n"
     ]
    }
   ],
   "source": [
    "public_key, private_key = paillier.generate_paillier_keypair()\n",
    "plain_list=[3,4,5]\n",
    "print(plain_list)\n",
    "encrypt_list=[public_key.encrypt(x) for x in plain_list]\n",
    "print(encrypt_list)\n",
    "encrypt_list=np.array(encrypt_list)\n",
    "print(encrypt_list)"
   ]
  },
  {
   "cell_type": "code",
   "execution_count": 6,
   "id": "f6d94eea",
   "metadata": {},
   "outputs": [
    {
     "name": "stdout",
     "output_type": "stream",
     "text": [
      "<phe.paillier.EncryptedNumber object at 0x7ff5e41e8910>\n"
     ]
    }
   ],
   "source": [
    "print(encrypt_list[0])"
   ]
  },
  {
   "cell_type": "code",
   "execution_count": 7,
   "id": "36fe1180",
   "metadata": {},
   "outputs": [
    {
     "name": "stdout",
     "output_type": "stream",
     "text": [
      "[9, 12, 15]\n"
     ]
    }
   ],
   "source": [
    "encrypt_list*=3\n",
    "decrypt_list=[private_key.decrypt(x) for x in encrypt_list]\n",
    "print(decrypt_list)"
   ]
  },
  {
   "cell_type": "code",
   "execution_count": 9,
   "id": "08bc95c8",
   "metadata": {},
   "outputs": [
    {
     "name": "stdout",
     "output_type": "stream",
     "text": [
      "[[1 2 3 4]\n",
      " [2 2 2 2]\n",
      " [6 6 6 6]]\n"
     ]
    }
   ],
   "source": [
    "row=np.array([[1,1,1,1],[2,2,2,2],[3,3,3,3]])\n",
    "matrix=np.array([[1,2,3,4],[1,1,1,1],[2,2,2,2]])\n",
    "print(row*matrix)"
   ]
  },
  {
   "cell_type": "code",
   "execution_count": 11,
   "id": "d455c0be",
   "metadata": {},
   "outputs": [
    {
     "name": "stdout",
     "output_type": "stream",
     "text": [
      "[1 2 3]\n",
      "[1 2 3]\n"
     ]
    }
   ],
   "source": [
    "row=np.array([1,2,3])\n",
    "print(row)\n",
    "print(row.T)"
   ]
  },
  {
   "cell_type": "code",
   "execution_count": 22,
   "id": "17a40144",
   "metadata": {},
   "outputs": [
    {
     "name": "stdout",
     "output_type": "stream",
     "text": [
      "[[1 2 3]]\n"
     ]
    }
   ],
   "source": [
    "new_row=np.expand_dims(row,axis=0)\n",
    "print(new_row)"
   ]
  },
  {
   "cell_type": "code",
   "execution_count": 25,
   "id": "dd5fc17c",
   "metadata": {},
   "outputs": [
    {
     "name": "stdout",
     "output_type": "stream",
     "text": [
      "[[1 1 1]\n",
      " [2 2 2]\n",
      " [3 3 3]]\n"
     ]
    }
   ],
   "source": [
    "print(new_row.repeat(3,axis=0).T)"
   ]
  },
  {
   "cell_type": "code",
   "execution_count": 24,
   "id": "93af671f",
   "metadata": {},
   "outputs": [
    {
     "name": "stdout",
     "output_type": "stream",
     "text": [
      "[[1 2 3]]\n"
     ]
    }
   ],
   "source": [
    "print(new_row)"
   ]
  },
  {
   "cell_type": "code",
   "execution_count": null,
   "id": "0c0d62ad",
   "metadata": {},
   "outputs": [],
   "source": []
  }
 ],
 "metadata": {
  "kernelspec": {
   "display_name": "Python 3 (ipykernel)",
   "language": "python",
   "name": "python3"
  },
  "language_info": {
   "codemirror_mode": {
    "name": "ipython",
    "version": 3
   },
   "file_extension": ".py",
   "mimetype": "text/x-python",
   "name": "python",
   "nbconvert_exporter": "python",
   "pygments_lexer": "ipython3",
   "version": "3.8.13"
  }
 },
 "nbformat": 4,
 "nbformat_minor": 5
}
